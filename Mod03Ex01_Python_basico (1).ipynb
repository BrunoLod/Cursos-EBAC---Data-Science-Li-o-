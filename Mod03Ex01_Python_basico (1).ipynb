{
  "cells": [
    {
      "cell_type": "markdown",
      "metadata": {
        "id": "SEE0vQsW83yB"
      },
      "source": [
        "### 01 - Teste de gravidez\n",
        "Escreva uma célula com controle de fluxos que tem como premissa a existência das seguintes variáveis:\n",
        "\n",
        "- ```sexo``` como ```str``` indicando os valores '**M**' para masculino e '**F**' para feminino  \n",
        "- ```beta_hcg``` que indica a quantidade do beta-HCG no sangue em mUI/mL.\n",
        "\n",
        "A sua tarefa é escrever um código que imprima como resultado \"indivíduo do sexo masculino\" quando sexo = 'M', caso sexo = 'F', se o valor de beta-HCG for maior que 5, retorne \"Positivo\" indicando que a paciente está grávida, e retorne \"Negativo\" caso contrário.\n",
        "\n",
        "Não mexa nos valores da variável ```sexo``` nem em ```beta_hcg```, e escreva um código que funcione para quaisquer valores possíveis de ambos: ```sexo``` = '**M**' ou '**F**' e ```beta_hcg``` assumindo valores inteiros positivos."
      ]
    },
    {
      "cell_type": "code",
      "execution_count": 4,
      "metadata": {
        "id": "cTOc4LG683yE",
        "colab": {
          "base_uri": "https://localhost:8080/"
        },
        "outputId": "0da7adf6-4af4-462f-f84f-d6e581d218e8"
      },
      "outputs": [
        {
          "output_type": "stream",
          "name": "stdout",
          "text": [
            "Positivo, a paciente está grávida e o bebê será sexo masculino.\n"
          ]
        }
      ],
      "source": [
        "sexo_m = 'sexo masculino'\n",
        "sexo_f = 'sexo feminino'\n",
        "beta_hcg = 0\n",
        "\n",
        "# seu código vem abaixo desta linha\n",
        "if beta_hcg > 5:\n",
        "  print(f\"Positivo, a paciente está grávida e o bebê será {sexo_f}.\")\n",
        "elif beta_hcg > 0 and beta_hcg < 5:\n",
        "  print(f\"Positivo, a paciente está grávida e o bebê será {sexo_m}.\")\n",
        "else:\n",
        "  print(f\"Negativo, a paciente não está grávida.\")"
      ]
    },
    {
      "cell_type": "markdown",
      "metadata": {
        "id": "uCoIZDE383yF"
      },
      "source": [
        "### 02 - Renomeando variáveis\n",
        "\n",
        "Vamos ver adiante que uma forma de renomear variáveis de um conjunto de dados é através de dicionários - o dicionário deve conter como chave o nome original, associando a cada chave um único valor (tipo *str*) que contenha o nome novo.\n",
        "\n",
        "A sua tarefa é escrever um dicionário que possa ser utilizado para traduzir as variáveis ```name``` (nome), ```age``` (idade) e ```income``` (renda). Ou seja, esse dicionário deve relacionar as chaves *name, age* e *income* às suas respectivas traduções."
      ]
    },
    {
      "cell_type": "code",
      "execution_count": 5,
      "metadata": {
        "id": "Bh6ijpbu83yG",
        "outputId": "a9d70b9a-098b-431c-c5b3-9143be9f5118",
        "colab": {
          "base_uri": "https://localhost:8080/"
        }
      },
      "outputs": [
        {
          "output_type": "execute_result",
          "data": {
            "text/plain": [
              "{'nome': 'Larissa', 'idade': 22, 'renda': 'não sei'}"
            ]
          },
          "metadata": {},
          "execution_count": 5
        }
      ],
      "source": [
        "dic_renomeacao = {'nome': 'Larissa', \"idade\":22, \"renda\": \"não sei\"}\n",
        "dic_renomeacao"
      ]
    },
    {
      "cell_type": "markdown",
      "metadata": {
        "id": "95zumO5g83yH"
      },
      "source": [
        "### 03 - É divisível?\n",
        "A sua tarefa é escrever um código que indique se um número ```N``` é divisível por um número P. Escreva um programa que faça essa verificação para quaisquer combinações de ```N``` e ```M``` e devolva uma mensagem indicativa no output."
      ]
    },
    {
      "cell_type": "code",
      "execution_count": 7,
      "metadata": {
        "id": "BR2zOhmN83yI",
        "colab": {
          "base_uri": "https://localhost:8080/"
        },
        "outputId": "fea28a5d-9448-4c06-de7c-78add0d825bd"
      },
      "outputs": [
        {
          "output_type": "stream",
          "name": "stdout",
          "text": [
            "O núnero de N 42 é divisível pelo número de M 7\n"
          ]
        }
      ],
      "source": [
        "N = 42\n",
        "M = 7\n",
        "\n",
        "#Seu código\n",
        "if N % M == 0:\n",
        "  print(f\"O núnero de N {N} é divisível pelo número de M {M}\")\n",
        "else:\n",
        "  print(\"Não é divisível, uma vez que o resto da operação é diferente de zero.\")"
      ]
    },
    {
      "cell_type": "markdown",
      "metadata": {
        "id": "0d5Kdrz283yJ"
      },
      "source": [
        "### 04 - Números primos\n",
        "> Um número **N** é primo se e somente se é divisível por 1, -1, por **N** e por -**N**.  \n",
        "\n",
        "Escreva um script que verifica se ```N``` é um número primo, verificando se ```N``` é divisível por todos os números de ```1``` a ```N-1```. Você vai precisar usar alguma ferramenta de *loop* que você aprendeu para isto. No final, devolva uma mensagem no output indicando se o número é primo ou não."
      ]
    },
    {
      "cell_type": "code",
      "execution_count": 11,
      "metadata": {
        "id": "h_lFO-EO83yJ",
        "colab": {
          "base_uri": "https://localhost:8080/"
        },
        "outputId": "77f4e5b9-1fe1-4034-bfcd-01eca537a583"
      },
      "outputs": [
        {
          "output_type": "execute_result",
          "data": {
            "text/plain": [
              "[1, 47]"
            ]
          },
          "metadata": {},
          "execution_count": 11
        }
      ],
      "source": [
        "N = 47\n",
        "\n",
        "# seu código abaixo\n",
        "\n",
        "def verificando_divisibilidade_por_primos(numero:int) -> list:\n",
        "  numeros_primos = [ 1, 2, 3, 5, 7, 11, 13, 17, 19, 23, 29, 31, 37, 41, 43, 47, 53, 59, 61, 67, 71, 73, 79, 83, 89, 97] # coleção de dados de números primos.\n",
        "\n",
        "  divisiveis = [] # lista que armazenará os números primos que são divisíveis por 47\n",
        "\n",
        "  for numero_primo in numeros_primos: # percorrendo numero_primo (que se formará como uma nova variável) cada elemento da lista numeros_primos\n",
        "\n",
        "    if numero % numero_primo == 0:    # realizando a operação matemática que verifica se tal número é divisível pelo outro,\n",
        "                                      # sendo no caso passado o número 47 em relação aos números primos presentes na já citada lista.\n",
        "\n",
        "      divisiveis.append(numero_primo) # adicionando os números primos divisiveis por 47.\n",
        "\n",
        "  return divisiveis # retornando os valores divisiveis, que serão imrpressos em forma de lista, a lista dos divisíveis.\n",
        "\n",
        "\n",
        "verificando_divisibilidade_por_primos(numero=N)"
      ]
    },
    {
      "cell_type": "markdown",
      "metadata": {
        "id": "zHwDnURO83yK"
      },
      "source": [
        "### 05 - Desafio\n",
        "O algorítmo do exercício anterior não é o mais eficiente. O que você pode fazer para deixá-lo mais eficiente? Ou seja, executar menos comparações, portanto consumir menos tempo.\n",
        "1. Será que precisamos correr o loop até o final sempre?\n",
        "2. Será que precisamos mesmo verificar **todos** os números?\n",
        "3. Será que precisamos ir até N-1?\n",
        "\n",
        "Essas perguntas levam ao tipo de pensamento voltado a deixar um algoritmo mais eficiente. Veja se você consegue melhorar o seu."
      ]
    },
    {
      "cell_type": "code",
      "execution_count": null,
      "metadata": {
        "id": "DDdwfZOL83yM"
      },
      "outputs": [],
      "source": [
        "N = 98\n",
        "\n",
        "# seu código aqui\n",
        "\n"
      ]
    },
    {
      "cell_type": "markdown",
      "metadata": {
        "id": "4zhVSQan83yN"
      },
      "source": [
        "### 06 - Peso ideal 1\n",
        "O IMC (índice de massa corpórea) é um indicador de saúde mais bem aceito que o peso. Ele é calculado como:\n",
        "\n",
        "$$ IMC = \\dfrac{peso}{altura^2}$$\n",
        "\n",
        "Segundo a OMS, valores *normais* são entre 18.5 e 24.9.\n",
        "\n",
        "Sua tarefa é encontrar o ponto médio dessa faixa."
      ]
    },
    {
      "cell_type": "code",
      "execution_count": 16,
      "metadata": {
        "id": "3DzxicN983yO",
        "outputId": "1221f4a4-8b20-4441-fb33-5f169071c90c",
        "colab": {
          "base_uri": "https://localhost:8080/"
        }
      },
      "outputs": [
        {
          "output_type": "stream",
          "name": "stdout",
          "text": [
            "O IMC ideal é 22 kg/cm²\n"
          ]
        }
      ],
      "source": [
        "imc_ideal = round((24.9 + 18.5)/ 2)\n",
        "print(f\"O IMC ideal é {imc_ideal} kg/cm²\")"
      ]
    },
    {
      "cell_type": "markdown",
      "metadata": {
        "id": "Z8uBOym483yP"
      },
      "source": [
        "### 07 - Peso ideal 2\n",
        "Recebendo um valor de altura, encontre o peso '*ideal*' dessa pessoa, que fornece o IMC encontrado acima"
      ]
    },
    {
      "cell_type": "code",
      "execution_count": 18,
      "metadata": {
        "id": "rrNwycte83yP",
        "outputId": "6f2bf04a-1ac3-4c94-8840-b866960f2049",
        "colab": {
          "base_uri": "https://localhost:8080/"
        }
      },
      "outputs": [
        {
          "output_type": "stream",
          "name": "stdout",
          "text": [
            "O peso ideal é de 64 kg\n"
          ]
        }
      ],
      "source": [
        "altura = 1.70\n",
        "\n",
        "# Seu código\n",
        "peso_ideal = round(imc_ideal*(altura**2))\n",
        "print(f\"O peso ideal é de {peso_ideal} kg\")"
      ]
    },
    {
      "cell_type": "markdown",
      "metadata": {
        "id": "zEdM6J_i83yP"
      },
      "source": [
        "### 08 - Peso ideal 3\n",
        "Dada uma lista contendo as alturas de pacientes, crie uma nova lista que contenha o peso '*ideal*' (que fornece o IMC calculado em **Peso ideal 1**) desses pacientes."
      ]
    },
    {
      "cell_type": "code",
      "execution_count": 19,
      "metadata": {
        "id": "KN1mB_My83yQ",
        "outputId": "4aa72342-c2d9-4a32-af26-e8a9ba31e28b",
        "colab": {
          "base_uri": "https://localhost:8080/"
        }
      },
      "outputs": [
        {
          "output_type": "execute_result",
          "data": {
            "text/plain": [
              "[84, 92, 64, 60]"
            ]
          },
          "metadata": {},
          "execution_count": 19
        }
      ],
      "source": [
        "lista_alturas = [1.95, 2.05, 1.70, 1.65]\n",
        "\n",
        "lista_peso_ideal = []\n",
        "\n",
        "# seu código\n",
        "\n",
        "for p in lista_alturas:\n",
        "\n",
        "  peso = round(imc_ideal*(p**2))\n",
        "  lista_peso_ideal.append(peso)\n",
        "\n",
        "lista_peso_ideal"
      ]
    },
    {
      "cell_type": "markdown",
      "metadata": {
        "id": "8OKAtYQM83yQ"
      },
      "source": [
        "### 09 - Peso ideal 4\n",
        "Dada uma lista de tuplas - cada elemento da lista é uma tupla contendo altura e peso de um paciente - crie uma nova lista com o IMC desses pacientes."
      ]
    },
    {
      "cell_type": "code",
      "execution_count": 29,
      "metadata": {
        "id": "FaXgkjzI83yQ",
        "outputId": "f0d28b62-d47b-4e4f-c2d1-50554ab16d68",
        "colab": {
          "base_uri": "https://localhost:8080/"
        }
      },
      "outputs": [
        {
          "output_type": "stream",
          "name": "stdout",
          "text": [
            "A altura 1.8 m e peso 90 kg, tem como IMC: 28 kg/m².\n",
            "A altura 1.65 m e peso 75 kg, tem como IMC: 28 kg/m².\n",
            "A altura 1.91 m e peso 70 kg, tem como IMC: 19 kg/m².\n"
          ]
        }
      ],
      "source": [
        "altura_peso = [(1.80, 90), (1.65, 75), (1.91, 70)]\n",
        "\n",
        "imc = []\n",
        "\n",
        "# seu código\n",
        "\n",
        "def calcular_imc(altura: float, peso: int):\n",
        "\n",
        "  imc = round((peso) / (altura**2))\n",
        "\n",
        "  return imc\n",
        "\n",
        "for altura, peso in altura_peso:\n",
        "\n",
        "  imc = calcular_imc(altura=altura, peso=peso)\n",
        "\n",
        "  print(f\"A altura {altura} m e peso {peso} kg, tem como IMC: {imc} kg/m².\")\n"
      ]
    },
    {
      "cell_type": "markdown",
      "metadata": {
        "id": "kZdSJqJq83yR"
      },
      "source": [
        "### 10 - Peso ideal 5\n",
        "Dada uma lista de **listas** - cada elemento da lista é uma **lista** contendo altura e peso de um paciente, adicione mais um elemento à lista de cada paciente contendo o IMC do paciente. Verifique também se é 'baixo', 'normal' ou 'alto' segundo os padrões da OMS em que normal é entre 18.5 e 24.9.\n",
        "\n",
        "Reflexão: por que no problema anterior temos que criar uma nova lista, e não podemos adicionar os dados de cada indivíduo à tupla?"
      ]
    },
    {
      "cell_type": "code",
      "execution_count": 28,
      "metadata": {
        "id": "EwszojP283yR",
        "colab": {
          "base_uri": "https://localhost:8080/"
        },
        "outputId": "d3e5ce61-b670-4d6d-8ac9-14fa7fef8ab0"
      },
      "outputs": [
        {
          "output_type": "stream",
          "name": "stdout",
          "text": [
            "A altura 1.8 m e peso 90 kg, tem como IMC: 28 kg/m².\n",
            "A altura 1.65 m e peso 75 kg, tem como IMC: 28 kg/m².\n",
            "A altura 1.91 m e peso 70 kg, tem como IMC: 19 kg/m².\n"
          ]
        }
      ],
      "source": [
        "altura_peso = [[1.80, 90], [1.65, 75], [1.91, 70]]\n",
        "\n",
        "# seu código\n",
        "\n",
        "\n",
        "def calcular_imc(altura: float, peso: int):\n",
        "\n",
        "  imc = round((peso) / (altura**2))\n",
        "\n",
        "  return imc\n",
        "\n",
        "for altura, peso in altura_peso:\n",
        "\n",
        "  imc = calcular_imc(altura=altura, peso=peso)\n",
        "\n",
        "  print(f\"A altura {altura} m e peso {peso} kg, tem como IMC: {imc} kg/m².\")"
      ]
    },
    {
      "cell_type": "code",
      "source": [],
      "metadata": {
        "id": "as3T2GBJn2_B"
      },
      "execution_count": null,
      "outputs": []
    }
  ],
  "metadata": {
    "kernelspec": {
      "display_name": "Python 3",
      "language": "python",
      "name": "python3"
    },
    "language_info": {
      "codemirror_mode": {
        "name": "ipython",
        "version": 3
      },
      "file_extension": ".py",
      "mimetype": "text/x-python",
      "name": "python",
      "nbconvert_exporter": "python",
      "pygments_lexer": "ipython3",
      "version": "3.8.5"
    },
    "colab": {
      "provenance": []
    }
  },
  "nbformat": 4,
  "nbformat_minor": 0
}